{
 "cells": [
  {
   "cell_type": "code",
   "execution_count": 175,
   "id": "a0c2b33e",
   "metadata": {},
   "outputs": [],
   "source": [
    "import pandas as pd\n",
    "import csv\n",
    "import shutil\n"
   ]
  },
  {
   "cell_type": "code",
   "execution_count": 176,
   "id": "163ee96d",
   "metadata": {},
   "outputs": [],
   "source": [
    "# title=\"nonIID_w_fedavg\"\n",
    "title=\"nonIID_w_dpsgd\"\n",
    "data=pd.read_csv(f\"/Users/joonghochoi/Desktop//FL_result/{title}.csv\")\n",
    "# data=pd.read_csv(\"/Users/joonghochoi/Desktop/nonIID_w_dpsgd.csv\")"
   ]
  },
  {
   "cell_type": "code",
   "execution_count": 177,
   "id": "5a9a740b",
   "metadata": {},
   "outputs": [
    {
     "name": "stdout",
     "output_type": "stream",
     "text": [
      "(2940, 10)\n",
      "2940\n"
     ]
    }
   ],
   "source": [
    "print(data.shape)\n",
    "length=len(data)\n",
    "print(length)"
   ]
  },
  {
   "cell_type": "code",
   "execution_count": 178,
   "id": "a663069a",
   "metadata": {},
   "outputs": [
    {
     "data": {
      "text/html": [
       "<div>\n",
       "<style scoped>\n",
       "    .dataframe tbody tr th:only-of-type {\n",
       "        vertical-align: middle;\n",
       "    }\n",
       "\n",
       "    .dataframe tbody tr th {\n",
       "        vertical-align: top;\n",
       "    }\n",
       "\n",
       "    .dataframe thead th {\n",
       "        text-align: right;\n",
       "    }\n",
       "</style>\n",
       "<table border=\"1\" class=\"dataframe\">\n",
       "  <thead>\n",
       "    <tr style=\"text-align: right;\">\n",
       "      <th></th>\n",
       "      <th>num</th>\n",
       "      <th>rate</th>\n",
       "      <th>round</th>\n",
       "      <th>ground truth</th>\n",
       "      <th>historical_cluster</th>\n",
       "      <th>current_cluster</th>\n",
       "      <th>train_loss</th>\n",
       "      <th>train_acc</th>\n",
       "      <th>test_loss</th>\n",
       "      <th>test_acc</th>\n",
       "    </tr>\n",
       "  </thead>\n",
       "  <tbody>\n",
       "    <tr>\n",
       "      <th>0</th>\n",
       "      <td>10</td>\n",
       "      <td>0.125</td>\n",
       "      <td>1</td>\n",
       "      <td>[6]</td>\n",
       "      <td>[0 3 4 6]</td>\n",
       "      <td>[0 3 4 6]</td>\n",
       "      <td>2.1824</td>\n",
       "      <td>0.2103</td>\n",
       "      <td>1.9274</td>\n",
       "      <td>0.5728</td>\n",
       "    </tr>\n",
       "    <tr>\n",
       "      <th>1</th>\n",
       "      <td>10</td>\n",
       "      <td>0.125</td>\n",
       "      <td>2</td>\n",
       "      <td>[6]</td>\n",
       "      <td>[3 4 6]</td>\n",
       "      <td>[9 6 7]</td>\n",
       "      <td>1.6226</td>\n",
       "      <td>0.4634</td>\n",
       "      <td>0.9604</td>\n",
       "      <td>0.7902</td>\n",
       "    </tr>\n",
       "  </tbody>\n",
       "</table>\n",
       "</div>"
      ],
      "text/plain": [
       "   num   rate  round ground truth historical_cluster current_cluster  \\\n",
       "0   10  0.125      1          [6]          [0 3 4 6]       [0 3 4 6]   \n",
       "1   10  0.125      2          [6]            [3 4 6]         [9 6 7]   \n",
       "\n",
       "   train_loss  train_acc  test_loss  test_acc  \n",
       "0      2.1824     0.2103     1.9274    0.5728  \n",
       "1      1.6226     0.4634     0.9604    0.7902  "
      ]
     },
     "execution_count": 178,
     "metadata": {},
     "output_type": "execute_result"
    }
   ],
   "source": [
    "data.head(2)"
   ]
  },
  {
   "cell_type": "code",
   "execution_count": 179,
   "id": "efa6a9e2",
   "metadata": {},
   "outputs": [
    {
     "data": {
      "text/html": [
       "<div>\n",
       "<style scoped>\n",
       "    .dataframe tbody tr th:only-of-type {\n",
       "        vertical-align: middle;\n",
       "    }\n",
       "\n",
       "    .dataframe tbody tr th {\n",
       "        vertical-align: top;\n",
       "    }\n",
       "\n",
       "    .dataframe thead th {\n",
       "        text-align: right;\n",
       "    }\n",
       "</style>\n",
       "<table border=\"1\" class=\"dataframe\">\n",
       "  <thead>\n",
       "    <tr style=\"text-align: right;\">\n",
       "      <th></th>\n",
       "      <th>num</th>\n",
       "      <th>rate</th>\n",
       "      <th>round</th>\n",
       "      <th>ground truth</th>\n",
       "      <th>historical_cluster</th>\n",
       "      <th>current_cluster</th>\n",
       "      <th>train_loss</th>\n",
       "      <th>train_acc</th>\n",
       "      <th>test_loss</th>\n",
       "      <th>test_acc</th>\n",
       "    </tr>\n",
       "  </thead>\n",
       "  <tbody>\n",
       "    <tr>\n",
       "      <th>2938</th>\n",
       "      <td>50</td>\n",
       "      <td>0.125</td>\n",
       "      <td>59</td>\n",
       "      <td>[13, 41, 27, 33, 2, 8]</td>\n",
       "      <td>[ 1  4  5  6  8 10 13 15 18 20 23 24 30 32 33 ...</td>\n",
       "      <td>[ 1  4  5  6  8 10 13 18 20 21 23 24 29 30 32 ...</td>\n",
       "      <td>1.2634</td>\n",
       "      <td>0.5948</td>\n",
       "      <td>1.0234</td>\n",
       "      <td>0.8019</td>\n",
       "    </tr>\n",
       "    <tr>\n",
       "      <th>2939</th>\n",
       "      <td>50</td>\n",
       "      <td>0.125</td>\n",
       "      <td>60</td>\n",
       "      <td>[13, 41, 27, 33, 2, 8]</td>\n",
       "      <td>[ 1  4  5  6  8 10 13 15 18 20 23 24 30 32 33 ...</td>\n",
       "      <td>[ 1  2  4  5  6  8 10 13 15 18 20 21 23 27 30 ...</td>\n",
       "      <td>1.2472</td>\n",
       "      <td>0.5986</td>\n",
       "      <td>1.0031</td>\n",
       "      <td>0.8067</td>\n",
       "    </tr>\n",
       "  </tbody>\n",
       "</table>\n",
       "</div>"
      ],
      "text/plain": [
       "      num   rate  round            ground truth  \\\n",
       "2938   50  0.125     59  [13, 41, 27, 33, 2, 8]   \n",
       "2939   50  0.125     60  [13, 41, 27, 33, 2, 8]   \n",
       "\n",
       "                                     historical_cluster  \\\n",
       "2938  [ 1  4  5  6  8 10 13 15 18 20 23 24 30 32 33 ...   \n",
       "2939  [ 1  4  5  6  8 10 13 15 18 20 23 24 30 32 33 ...   \n",
       "\n",
       "                                        current_cluster  train_loss  \\\n",
       "2938  [ 1  4  5  6  8 10 13 18 20 21 23 24 29 30 32 ...      1.2634   \n",
       "2939  [ 1  2  4  5  6  8 10 13 15 18 20 21 23 27 30 ...      1.2472   \n",
       "\n",
       "      train_acc  test_loss  test_acc  \n",
       "2938     0.5948     1.0234    0.8019  \n",
       "2939     0.5986     1.0031    0.8067  "
      ]
     },
     "execution_count": 179,
     "metadata": {},
     "output_type": "execute_result"
    }
   ],
   "source": [
    "data.tail(2)"
   ]
  },
  {
   "cell_type": "code",
   "execution_count": 180,
   "id": "4c02a55d",
   "metadata": {},
   "outputs": [
    {
     "name": "stdout",
     "output_type": "stream",
     "text": [
      "[6]\n",
      "<class 'str'>\n",
      "<class 'str'>\n"
     ]
    }
   ],
   "source": [
    "print(data.iloc[0][3])\n",
    "print(type(data.iloc[0][3]))\n",
    "print(type(data.iloc[0][4]))"
   ]
  },
  {
   "cell_type": "code",
   "execution_count": 181,
   "id": "37adf3cf",
   "metadata": {},
   "outputs": [
    {
     "data": {
      "text/plain": [
       "'[0 3 4 6]'"
      ]
     },
     "execution_count": 181,
     "metadata": {},
     "output_type": "execute_result"
    }
   ],
   "source": [
    "data.iloc[0][5]"
   ]
  },
  {
   "cell_type": "code",
   "execution_count": 182,
   "id": "b4da2119",
   "metadata": {},
   "outputs": [
    {
     "name": "stdout",
     "output_type": "stream",
     "text": [
      "{0, 3, 4, 6}\n"
     ]
    }
   ],
   "source": [
    "import ast\n",
    "\n",
    "string_list = '[0, 3, 4, 6]'\n",
    "list_from_string = ast.literal_eval(string_list)\n",
    "\n",
    "# Convert the list to a set\n",
    "set_from_list = set(list_from_string)\n",
    "\n",
    "print(set_from_list)\n"
   ]
  },
  {
   "cell_type": "code",
   "execution_count": 183,
   "id": "c9e0bffb",
   "metadata": {},
   "outputs": [],
   "source": [
    "import pandas as pd\n",
    "import ast #Abstract Syntax Trees\n",
    "\n",
    "def convert_to_set(string_list):\n",
    "    try:\n",
    "        list_from_string = ast.literal_eval(string_list)\n",
    "        return set(list_from_string)\n",
    "    except (ValueError, SyntaxError):\n",
    "        return set()\n",
    "\n",
    "data['ground truth'] = data['ground truth'].apply(convert_to_set)\n"
   ]
  },
  {
   "cell_type": "code",
   "execution_count": 184,
   "id": "8ed10f25",
   "metadata": {},
   "outputs": [
    {
     "data": {
      "text/plain": [
       "{6}"
      ]
     },
     "execution_count": 184,
     "metadata": {},
     "output_type": "execute_result"
    }
   ],
   "source": [
    "data.iloc[0][3]"
   ]
  },
  {
   "cell_type": "code",
   "execution_count": 185,
   "id": "b0cbae17",
   "metadata": {},
   "outputs": [
    {
     "name": "stdout",
     "output_type": "stream",
     "text": [
      "   num   rate  round ground truth historical_cluster current_cluster  \\\n",
      "0   10  0.125      1          {6}       {0, 3, 4, 6}    {0, 3, 4, 6}   \n",
      "1   10  0.125      2          {6}          {3, 4, 6}       {9, 6, 7}   \n",
      "2   10  0.125      3          {6}          {3, 4, 6}    {0, 1, 3, 6}   \n",
      "3   10  0.125      4          {6}          {3, 4, 6}    {2, 3, 4, 6}   \n",
      "4   10  0.125      5          {6}                {6}    {9, 4, 6, 7}   \n",
      "\n",
      "   train_loss  train_acc  test_loss  test_acc  \n",
      "0      2.1824     0.2103     1.9274    0.5728  \n",
      "1      1.6226     0.4634     0.9604    0.7902  \n",
      "2      1.1492     0.6193     0.6088    0.8576  \n",
      "3      0.9303     0.6984     0.4688    0.8841  \n",
      "4      0.8014     0.7421     0.3900    0.9005  \n"
     ]
    }
   ],
   "source": [
    "def convert_space_separated_to_set(string_list):\n",
    "    try:\n",
    "        values = string_list.strip('[]').split()\n",
    "        return set(int(value) for value in values)\n",
    "    except ValueError:\n",
    "        return set()\n",
    "\n",
    "data['historical_cluster'] = data['historical_cluster'].apply(convert_space_separated_to_set)\n",
    "data['current_cluster'] = data['current_cluster'].apply(convert_space_separated_to_set)\n",
    "\n",
    "print(data.head())  \n"
   ]
  },
  {
   "cell_type": "code",
   "execution_count": 186,
   "id": "2a68c3f5",
   "metadata": {},
   "outputs": [
    {
     "name": "stdout",
     "output_type": "stream",
     "text": [
      "      num   rate  round            ground truth  \\\n",
      "2935   50  0.125     56  {33, 2, 8, 41, 13, 27}   \n",
      "2936   50  0.125     57  {33, 2, 8, 41, 13, 27}   \n",
      "2937   50  0.125     58  {33, 2, 8, 41, 13, 27}   \n",
      "2938   50  0.125     59  {33, 2, 8, 41, 13, 27}   \n",
      "2939   50  0.125     60  {33, 2, 8, 41, 13, 27}   \n",
      "\n",
      "                                     historical_cluster  \\\n",
      "2935  {1, 4, 5, 6, 8, 10, 13, 15, 18, 20, 23, 24, 30...   \n",
      "2936  {1, 4, 5, 6, 8, 10, 13, 15, 18, 20, 23, 24, 30...   \n",
      "2937  {1, 4, 5, 6, 8, 10, 13, 15, 18, 20, 23, 24, 30...   \n",
      "2938  {1, 4, 5, 6, 8, 10, 13, 15, 18, 20, 23, 24, 30...   \n",
      "2939  {1, 4, 5, 6, 8, 10, 13, 15, 18, 20, 23, 24, 30...   \n",
      "\n",
      "                                        current_cluster  train_loss  \\\n",
      "2935  {1, 2, 4, 5, 6, 8, 10, 13, 15, 18, 20, 21, 23,...      1.3051   \n",
      "2936  {1, 2, 4, 5, 6, 7, 8, 10, 13, 15, 18, 20, 21, ...      1.2889   \n",
      "2937  {1, 4, 5, 6, 7, 8, 10, 13, 15, 18, 20, 23, 24,...      1.2714   \n",
      "2938  {1, 4, 5, 6, 8, 10, 13, 18, 20, 21, 23, 24, 29...      1.2634   \n",
      "2939  {1, 2, 4, 5, 6, 8, 10, 13, 15, 18, 20, 21, 23,...      1.2472   \n",
      "\n",
      "      train_acc  test_loss  test_acc  \n",
      "2935     0.5818     1.0828    0.7922  \n",
      "2936     0.5844     1.0624    0.7953  \n",
      "2937     0.5895     1.0428    0.7993  \n",
      "2938     0.5948     1.0234    0.8019  \n",
      "2939     0.5986     1.0031    0.8067  \n"
     ]
    }
   ],
   "source": [
    "print(data.tail())"
   ]
  },
  {
   "cell_type": "code",
   "execution_count": 187,
   "id": "efbe72cd",
   "metadata": {},
   "outputs": [],
   "source": [
    "def calculate_precision(cluster_set, ground_truth_set):\n",
    "    if not cluster_set:\n",
    "        return None  \n",
    "    elif not ground_truth_set:\n",
    "        return 0  \n",
    "    else:\n",
    "        true_positives = len(cluster_set.intersection(ground_truth_set))\n",
    "        false_positives = len(cluster_set.difference(ground_truth_set))\n",
    "        return true_positives / (true_positives + false_positives) if (true_positives + false_positives) > 0 else 0\n",
    "def calculate_accuracy(cluster_set, ground_truth_set):\n",
    "    if not cluster_set or not ground_truth_set:  \n",
    "        return None  \n",
    "    else:\n",
    "        return len(cluster_set.intersection(ground_truth_set)) / len(ground_truth_set)"
   ]
  },
  {
   "cell_type": "code",
   "execution_count": 188,
   "id": "001fdb72",
   "metadata": {},
   "outputs": [],
   "source": [
    "data['precision_historical_cluster'] = data.apply(lambda row: calculate_precision(row['historical_cluster'], row['ground truth']), axis=1)\n",
    "data['precision_current_cluster'] = data.apply(lambda row: calculate_precision(row['current_cluster'], row['ground truth']), axis=1)"
   ]
  },
  {
   "cell_type": "code",
   "execution_count": 189,
   "id": "8308e446",
   "metadata": {},
   "outputs": [],
   "source": [
    "data['accuracy_historical_cluster'] = data.apply(lambda row: calculate_accuracy(row['historical_cluster'], row['ground truth']), axis=1)\n",
    "data['accuracy_current_cluster'] = data.apply(lambda row: calculate_accuracy(row['current_cluster'], row['ground truth']), axis=1)"
   ]
  },
  {
   "cell_type": "code",
   "execution_count": 190,
   "id": "8104fe1b",
   "metadata": {},
   "outputs": [
    {
     "data": {
      "text/html": [
       "<div>\n",
       "<style scoped>\n",
       "    .dataframe tbody tr th:only-of-type {\n",
       "        vertical-align: middle;\n",
       "    }\n",
       "\n",
       "    .dataframe tbody tr th {\n",
       "        vertical-align: top;\n",
       "    }\n",
       "\n",
       "    .dataframe thead th {\n",
       "        text-align: right;\n",
       "    }\n",
       "</style>\n",
       "<table border=\"1\" class=\"dataframe\">\n",
       "  <thead>\n",
       "    <tr style=\"text-align: right;\">\n",
       "      <th></th>\n",
       "      <th>num</th>\n",
       "      <th>rate</th>\n",
       "      <th>round</th>\n",
       "      <th>ground truth</th>\n",
       "      <th>historical_cluster</th>\n",
       "      <th>current_cluster</th>\n",
       "      <th>train_loss</th>\n",
       "      <th>train_acc</th>\n",
       "      <th>test_loss</th>\n",
       "      <th>test_acc</th>\n",
       "      <th>precision_historical_cluster</th>\n",
       "      <th>precision_current_cluster</th>\n",
       "      <th>accuracy_historical_cluster</th>\n",
       "      <th>accuracy_current_cluster</th>\n",
       "    </tr>\n",
       "  </thead>\n",
       "  <tbody>\n",
       "    <tr>\n",
       "      <th>0</th>\n",
       "      <td>10</td>\n",
       "      <td>0.125</td>\n",
       "      <td>1</td>\n",
       "      <td>{6}</td>\n",
       "      <td>{0, 3, 4, 6}</td>\n",
       "      <td>{0, 3, 4, 6}</td>\n",
       "      <td>2.1824</td>\n",
       "      <td>0.2103</td>\n",
       "      <td>1.9274</td>\n",
       "      <td>0.5728</td>\n",
       "      <td>0.250000</td>\n",
       "      <td>0.250000</td>\n",
       "      <td>1.0</td>\n",
       "      <td>1.0</td>\n",
       "    </tr>\n",
       "    <tr>\n",
       "      <th>1</th>\n",
       "      <td>10</td>\n",
       "      <td>0.125</td>\n",
       "      <td>2</td>\n",
       "      <td>{6}</td>\n",
       "      <td>{3, 4, 6}</td>\n",
       "      <td>{9, 6, 7}</td>\n",
       "      <td>1.6226</td>\n",
       "      <td>0.4634</td>\n",
       "      <td>0.9604</td>\n",
       "      <td>0.7902</td>\n",
       "      <td>0.333333</td>\n",
       "      <td>0.333333</td>\n",
       "      <td>1.0</td>\n",
       "      <td>1.0</td>\n",
       "    </tr>\n",
       "  </tbody>\n",
       "</table>\n",
       "</div>"
      ],
      "text/plain": [
       "   num   rate  round ground truth historical_cluster current_cluster  \\\n",
       "0   10  0.125      1          {6}       {0, 3, 4, 6}    {0, 3, 4, 6}   \n",
       "1   10  0.125      2          {6}          {3, 4, 6}       {9, 6, 7}   \n",
       "\n",
       "   train_loss  train_acc  test_loss  test_acc  precision_historical_cluster  \\\n",
       "0      2.1824     0.2103     1.9274    0.5728                      0.250000   \n",
       "1      1.6226     0.4634     0.9604    0.7902                      0.333333   \n",
       "\n",
       "   precision_current_cluster  accuracy_historical_cluster  \\\n",
       "0                   0.250000                          1.0   \n",
       "1                   0.333333                          1.0   \n",
       "\n",
       "   accuracy_current_cluster  \n",
       "0                       1.0  \n",
       "1                       1.0  "
      ]
     },
     "execution_count": 190,
     "metadata": {},
     "output_type": "execute_result"
    }
   ],
   "source": [
    "data.head(2)"
   ]
  },
  {
   "cell_type": "code",
   "execution_count": 191,
   "id": "ea6aea63",
   "metadata": {},
   "outputs": [
    {
     "data": {
      "text/html": [
       "<div>\n",
       "<style scoped>\n",
       "    .dataframe tbody tr th:only-of-type {\n",
       "        vertical-align: middle;\n",
       "    }\n",
       "\n",
       "    .dataframe tbody tr th {\n",
       "        vertical-align: top;\n",
       "    }\n",
       "\n",
       "    .dataframe thead th {\n",
       "        text-align: right;\n",
       "    }\n",
       "</style>\n",
       "<table border=\"1\" class=\"dataframe\">\n",
       "  <thead>\n",
       "    <tr style=\"text-align: right;\">\n",
       "      <th></th>\n",
       "      <th>num</th>\n",
       "      <th>rate</th>\n",
       "      <th>round</th>\n",
       "      <th>ground truth</th>\n",
       "      <th>historical_cluster</th>\n",
       "      <th>current_cluster</th>\n",
       "      <th>train_loss</th>\n",
       "      <th>train_acc</th>\n",
       "      <th>test_loss</th>\n",
       "      <th>test_acc</th>\n",
       "      <th>precision_historical_cluster</th>\n",
       "      <th>precision_current_cluster</th>\n",
       "      <th>accuracy_historical_cluster</th>\n",
       "      <th>accuracy_current_cluster</th>\n",
       "    </tr>\n",
       "  </thead>\n",
       "  <tbody>\n",
       "    <tr>\n",
       "      <th>2938</th>\n",
       "      <td>50</td>\n",
       "      <td>0.125</td>\n",
       "      <td>59</td>\n",
       "      <td>{33, 2, 8, 41, 13, 27}</td>\n",
       "      <td>{1, 4, 5, 6, 8, 10, 13, 15, 18, 20, 23, 24, 30...</td>\n",
       "      <td>{1, 4, 5, 6, 8, 10, 13, 18, 20, 21, 23, 24, 29...</td>\n",
       "      <td>1.2634</td>\n",
       "      <td>0.5948</td>\n",
       "      <td>1.0234</td>\n",
       "      <td>0.8019</td>\n",
       "      <td>0.181818</td>\n",
       "      <td>0.181818</td>\n",
       "      <td>0.666667</td>\n",
       "      <td>0.666667</td>\n",
       "    </tr>\n",
       "    <tr>\n",
       "      <th>2939</th>\n",
       "      <td>50</td>\n",
       "      <td>0.125</td>\n",
       "      <td>60</td>\n",
       "      <td>{33, 2, 8, 41, 13, 27}</td>\n",
       "      <td>{1, 4, 5, 6, 8, 10, 13, 15, 18, 20, 23, 24, 30...</td>\n",
       "      <td>{1, 2, 4, 5, 6, 8, 10, 13, 15, 18, 20, 21, 23,...</td>\n",
       "      <td>1.2472</td>\n",
       "      <td>0.5986</td>\n",
       "      <td>1.0031</td>\n",
       "      <td>0.8067</td>\n",
       "      <td>0.181818</td>\n",
       "      <td>0.272727</td>\n",
       "      <td>0.666667</td>\n",
       "      <td>1.000000</td>\n",
       "    </tr>\n",
       "  </tbody>\n",
       "</table>\n",
       "</div>"
      ],
      "text/plain": [
       "      num   rate  round            ground truth  \\\n",
       "2938   50  0.125     59  {33, 2, 8, 41, 13, 27}   \n",
       "2939   50  0.125     60  {33, 2, 8, 41, 13, 27}   \n",
       "\n",
       "                                     historical_cluster  \\\n",
       "2938  {1, 4, 5, 6, 8, 10, 13, 15, 18, 20, 23, 24, 30...   \n",
       "2939  {1, 4, 5, 6, 8, 10, 13, 15, 18, 20, 23, 24, 30...   \n",
       "\n",
       "                                        current_cluster  train_loss  \\\n",
       "2938  {1, 4, 5, 6, 8, 10, 13, 18, 20, 21, 23, 24, 29...      1.2634   \n",
       "2939  {1, 2, 4, 5, 6, 8, 10, 13, 15, 18, 20, 21, 23,...      1.2472   \n",
       "\n",
       "      train_acc  test_loss  test_acc  precision_historical_cluster  \\\n",
       "2938     0.5948     1.0234    0.8019                      0.181818   \n",
       "2939     0.5986     1.0031    0.8067                      0.181818   \n",
       "\n",
       "      precision_current_cluster  accuracy_historical_cluster  \\\n",
       "2938                   0.181818                     0.666667   \n",
       "2939                   0.272727                     0.666667   \n",
       "\n",
       "      accuracy_current_cluster  \n",
       "2938                  0.666667  \n",
       "2939                  1.000000  "
      ]
     },
     "execution_count": 191,
     "metadata": {},
     "output_type": "execute_result"
    }
   ],
   "source": [
    "data.tail(2)"
   ]
  },
  {
   "cell_type": "code",
   "execution_count": 192,
   "id": "3c9fa95e",
   "metadata": {},
   "outputs": [],
   "source": [
    "data['skewness_factor']=1"
   ]
  },
  {
   "cell_type": "code",
   "execution_count": 193,
   "id": "9705e6c3",
   "metadata": {},
   "outputs": [
    {
     "data": {
      "text/html": [
       "<div>\n",
       "<style scoped>\n",
       "    .dataframe tbody tr th:only-of-type {\n",
       "        vertical-align: middle;\n",
       "    }\n",
       "\n",
       "    .dataframe tbody tr th {\n",
       "        vertical-align: top;\n",
       "    }\n",
       "\n",
       "    .dataframe thead th {\n",
       "        text-align: right;\n",
       "    }\n",
       "</style>\n",
       "<table border=\"1\" class=\"dataframe\">\n",
       "  <thead>\n",
       "    <tr style=\"text-align: right;\">\n",
       "      <th></th>\n",
       "      <th>num</th>\n",
       "      <th>rate</th>\n",
       "      <th>round</th>\n",
       "      <th>ground truth</th>\n",
       "      <th>historical_cluster</th>\n",
       "      <th>current_cluster</th>\n",
       "      <th>train_loss</th>\n",
       "      <th>train_acc</th>\n",
       "      <th>test_loss</th>\n",
       "      <th>test_acc</th>\n",
       "      <th>precision_historical_cluster</th>\n",
       "      <th>precision_current_cluster</th>\n",
       "      <th>accuracy_historical_cluster</th>\n",
       "      <th>accuracy_current_cluster</th>\n",
       "      <th>skewness_factor</th>\n",
       "    </tr>\n",
       "  </thead>\n",
       "  <tbody>\n",
       "    <tr>\n",
       "      <th>0</th>\n",
       "      <td>10</td>\n",
       "      <td>0.125</td>\n",
       "      <td>1</td>\n",
       "      <td>{6}</td>\n",
       "      <td>{0, 3, 4, 6}</td>\n",
       "      <td>{0, 3, 4, 6}</td>\n",
       "      <td>2.1824</td>\n",
       "      <td>0.2103</td>\n",
       "      <td>1.9274</td>\n",
       "      <td>0.5728</td>\n",
       "      <td>0.250000</td>\n",
       "      <td>0.250000</td>\n",
       "      <td>1.0</td>\n",
       "      <td>1.0</td>\n",
       "      <td>1</td>\n",
       "    </tr>\n",
       "    <tr>\n",
       "      <th>1</th>\n",
       "      <td>10</td>\n",
       "      <td>0.125</td>\n",
       "      <td>2</td>\n",
       "      <td>{6}</td>\n",
       "      <td>{3, 4, 6}</td>\n",
       "      <td>{9, 6, 7}</td>\n",
       "      <td>1.6226</td>\n",
       "      <td>0.4634</td>\n",
       "      <td>0.9604</td>\n",
       "      <td>0.7902</td>\n",
       "      <td>0.333333</td>\n",
       "      <td>0.333333</td>\n",
       "      <td>1.0</td>\n",
       "      <td>1.0</td>\n",
       "      <td>1</td>\n",
       "    </tr>\n",
       "  </tbody>\n",
       "</table>\n",
       "</div>"
      ],
      "text/plain": [
       "   num   rate  round ground truth historical_cluster current_cluster  \\\n",
       "0   10  0.125      1          {6}       {0, 3, 4, 6}    {0, 3, 4, 6}   \n",
       "1   10  0.125      2          {6}          {3, 4, 6}       {9, 6, 7}   \n",
       "\n",
       "   train_loss  train_acc  test_loss  test_acc  precision_historical_cluster  \\\n",
       "0      2.1824     0.2103     1.9274    0.5728                      0.250000   \n",
       "1      1.6226     0.4634     0.9604    0.7902                      0.333333   \n",
       "\n",
       "   precision_current_cluster  accuracy_historical_cluster  \\\n",
       "0                   0.250000                          1.0   \n",
       "1                   0.333333                          1.0   \n",
       "\n",
       "   accuracy_current_cluster  skewness_factor  \n",
       "0                       1.0                1  \n",
       "1                       1.0                1  "
      ]
     },
     "execution_count": 193,
     "metadata": {},
     "output_type": "execute_result"
    }
   ],
   "source": [
    "data.head(2)"
   ]
  },
  {
   "cell_type": "code",
   "execution_count": 194,
   "id": "6e126a7e",
   "metadata": {},
   "outputs": [
    {
     "name": "stdout",
     "output_type": "stream",
     "text": [
      "val 10\n",
      "prev 0\n",
      "val 20\n",
      "prev 10\n",
      "val 50\n",
      "prev 20\n",
      "val 10\n",
      "prev 50\n",
      "idx\n",
      "val 20\n",
      "prev 10\n",
      "val 50\n",
      "prev 20\n",
      "val 10\n",
      "prev 50\n",
      "idx\n",
      "val 20\n",
      "prev 10\n",
      "val 50\n",
      "prev 20\n"
     ]
    }
   ],
   "source": [
    "data['skewness_factor'] = 1\n",
    "skewness_factors = [0.3, 0.5, 0.7]\n",
    "idx = 0\n",
    "prev = 0\n",
    "\n",
    "for i in range(len(data)):\n",
    "    data.loc[i, 'skewness_factor'] = skewness_factors[idx]\n",
    "    val = data.loc[i, 'num']\n",
    "    \n",
    "    if val != prev:\n",
    "        print(\"val\",val)\n",
    "        print(\"prev\",prev)\n",
    "        a=prev\n",
    "        b=val\n",
    "        prev = val \n",
    "        if a == 50 and b == 10:\n",
    "            idx += 1 \n",
    "            print(\"idx\")"
   ]
  },
  {
   "cell_type": "code",
   "execution_count": 195,
   "id": "83c19ad2",
   "metadata": {},
   "outputs": [
    {
     "data": {
      "text/html": [
       "<div>\n",
       "<style scoped>\n",
       "    .dataframe tbody tr th:only-of-type {\n",
       "        vertical-align: middle;\n",
       "    }\n",
       "\n",
       "    .dataframe tbody tr th {\n",
       "        vertical-align: top;\n",
       "    }\n",
       "\n",
       "    .dataframe thead th {\n",
       "        text-align: right;\n",
       "    }\n",
       "</style>\n",
       "<table border=\"1\" class=\"dataframe\">\n",
       "  <thead>\n",
       "    <tr style=\"text-align: right;\">\n",
       "      <th></th>\n",
       "      <th>num</th>\n",
       "      <th>rate</th>\n",
       "      <th>round</th>\n",
       "      <th>ground truth</th>\n",
       "      <th>historical_cluster</th>\n",
       "      <th>current_cluster</th>\n",
       "      <th>train_loss</th>\n",
       "      <th>train_acc</th>\n",
       "      <th>test_loss</th>\n",
       "      <th>test_acc</th>\n",
       "      <th>precision_historical_cluster</th>\n",
       "      <th>precision_current_cluster</th>\n",
       "      <th>accuracy_historical_cluster</th>\n",
       "      <th>accuracy_current_cluster</th>\n",
       "      <th>skewness_factor</th>\n",
       "    </tr>\n",
       "  </thead>\n",
       "  <tbody>\n",
       "    <tr>\n",
       "      <th>0</th>\n",
       "      <td>10</td>\n",
       "      <td>0.125</td>\n",
       "      <td>1</td>\n",
       "      <td>{6}</td>\n",
       "      <td>{0, 3, 4, 6}</td>\n",
       "      <td>{0, 3, 4, 6}</td>\n",
       "      <td>2.1824</td>\n",
       "      <td>0.2103</td>\n",
       "      <td>1.9274</td>\n",
       "      <td>0.5728</td>\n",
       "      <td>0.250000</td>\n",
       "      <td>0.250000</td>\n",
       "      <td>1.0</td>\n",
       "      <td>1.0</td>\n",
       "      <td>0.3</td>\n",
       "    </tr>\n",
       "    <tr>\n",
       "      <th>1</th>\n",
       "      <td>10</td>\n",
       "      <td>0.125</td>\n",
       "      <td>2</td>\n",
       "      <td>{6}</td>\n",
       "      <td>{3, 4, 6}</td>\n",
       "      <td>{9, 6, 7}</td>\n",
       "      <td>1.6226</td>\n",
       "      <td>0.4634</td>\n",
       "      <td>0.9604</td>\n",
       "      <td>0.7902</td>\n",
       "      <td>0.333333</td>\n",
       "      <td>0.333333</td>\n",
       "      <td>1.0</td>\n",
       "      <td>1.0</td>\n",
       "      <td>0.3</td>\n",
       "    </tr>\n",
       "  </tbody>\n",
       "</table>\n",
       "</div>"
      ],
      "text/plain": [
       "   num   rate  round ground truth historical_cluster current_cluster  \\\n",
       "0   10  0.125      1          {6}       {0, 3, 4, 6}    {0, 3, 4, 6}   \n",
       "1   10  0.125      2          {6}          {3, 4, 6}       {9, 6, 7}   \n",
       "\n",
       "   train_loss  train_acc  test_loss  test_acc  precision_historical_cluster  \\\n",
       "0      2.1824     0.2103     1.9274    0.5728                      0.250000   \n",
       "1      1.6226     0.4634     0.9604    0.7902                      0.333333   \n",
       "\n",
       "   precision_current_cluster  accuracy_historical_cluster  \\\n",
       "0                   0.250000                          1.0   \n",
       "1                   0.333333                          1.0   \n",
       "\n",
       "   accuracy_current_cluster  skewness_factor  \n",
       "0                       1.0              0.3  \n",
       "1                       1.0              0.3  "
      ]
     },
     "execution_count": 195,
     "metadata": {},
     "output_type": "execute_result"
    }
   ],
   "source": [
    "data.head(2)"
   ]
  },
  {
   "cell_type": "code",
   "execution_count": 196,
   "id": "93e2b636",
   "metadata": {},
   "outputs": [
    {
     "data": {
      "text/html": [
       "<div>\n",
       "<style scoped>\n",
       "    .dataframe tbody tr th:only-of-type {\n",
       "        vertical-align: middle;\n",
       "    }\n",
       "\n",
       "    .dataframe tbody tr th {\n",
       "        vertical-align: top;\n",
       "    }\n",
       "\n",
       "    .dataframe thead th {\n",
       "        text-align: right;\n",
       "    }\n",
       "</style>\n",
       "<table border=\"1\" class=\"dataframe\">\n",
       "  <thead>\n",
       "    <tr style=\"text-align: right;\">\n",
       "      <th></th>\n",
       "      <th>num</th>\n",
       "      <th>rate</th>\n",
       "      <th>round</th>\n",
       "      <th>ground truth</th>\n",
       "      <th>historical_cluster</th>\n",
       "      <th>current_cluster</th>\n",
       "      <th>train_loss</th>\n",
       "      <th>train_acc</th>\n",
       "      <th>test_loss</th>\n",
       "      <th>test_acc</th>\n",
       "      <th>precision_historical_cluster</th>\n",
       "      <th>precision_current_cluster</th>\n",
       "      <th>accuracy_historical_cluster</th>\n",
       "      <th>accuracy_current_cluster</th>\n",
       "      <th>skewness_factor</th>\n",
       "    </tr>\n",
       "  </thead>\n",
       "  <tbody>\n",
       "    <tr>\n",
       "      <th>2938</th>\n",
       "      <td>50</td>\n",
       "      <td>0.125</td>\n",
       "      <td>59</td>\n",
       "      <td>{33, 2, 8, 41, 13, 27}</td>\n",
       "      <td>{1, 4, 5, 6, 8, 10, 13, 15, 18, 20, 23, 24, 30...</td>\n",
       "      <td>{1, 4, 5, 6, 8, 10, 13, 18, 20, 21, 23, 24, 29...</td>\n",
       "      <td>1.2634</td>\n",
       "      <td>0.5948</td>\n",
       "      <td>1.0234</td>\n",
       "      <td>0.8019</td>\n",
       "      <td>0.181818</td>\n",
       "      <td>0.181818</td>\n",
       "      <td>0.666667</td>\n",
       "      <td>0.666667</td>\n",
       "      <td>0.7</td>\n",
       "    </tr>\n",
       "    <tr>\n",
       "      <th>2939</th>\n",
       "      <td>50</td>\n",
       "      <td>0.125</td>\n",
       "      <td>60</td>\n",
       "      <td>{33, 2, 8, 41, 13, 27}</td>\n",
       "      <td>{1, 4, 5, 6, 8, 10, 13, 15, 18, 20, 23, 24, 30...</td>\n",
       "      <td>{1, 2, 4, 5, 6, 8, 10, 13, 15, 18, 20, 21, 23,...</td>\n",
       "      <td>1.2472</td>\n",
       "      <td>0.5986</td>\n",
       "      <td>1.0031</td>\n",
       "      <td>0.8067</td>\n",
       "      <td>0.181818</td>\n",
       "      <td>0.272727</td>\n",
       "      <td>0.666667</td>\n",
       "      <td>1.000000</td>\n",
       "      <td>0.7</td>\n",
       "    </tr>\n",
       "  </tbody>\n",
       "</table>\n",
       "</div>"
      ],
      "text/plain": [
       "      num   rate  round            ground truth  \\\n",
       "2938   50  0.125     59  {33, 2, 8, 41, 13, 27}   \n",
       "2939   50  0.125     60  {33, 2, 8, 41, 13, 27}   \n",
       "\n",
       "                                     historical_cluster  \\\n",
       "2938  {1, 4, 5, 6, 8, 10, 13, 15, 18, 20, 23, 24, 30...   \n",
       "2939  {1, 4, 5, 6, 8, 10, 13, 15, 18, 20, 23, 24, 30...   \n",
       "\n",
       "                                        current_cluster  train_loss  \\\n",
       "2938  {1, 4, 5, 6, 8, 10, 13, 18, 20, 21, 23, 24, 29...      1.2634   \n",
       "2939  {1, 2, 4, 5, 6, 8, 10, 13, 15, 18, 20, 21, 23,...      1.2472   \n",
       "\n",
       "      train_acc  test_loss  test_acc  precision_historical_cluster  \\\n",
       "2938     0.5948     1.0234    0.8019                      0.181818   \n",
       "2939     0.5986     1.0031    0.8067                      0.181818   \n",
       "\n",
       "      precision_current_cluster  accuracy_historical_cluster  \\\n",
       "2938                   0.181818                     0.666667   \n",
       "2939                   0.272727                     0.666667   \n",
       "\n",
       "      accuracy_current_cluster  skewness_factor  \n",
       "2938                  0.666667              0.7  \n",
       "2939                  1.000000              0.7  "
      ]
     },
     "execution_count": 196,
     "metadata": {},
     "output_type": "execute_result"
    }
   ],
   "source": [
    "data.tail(2)"
   ]
  },
  {
   "cell_type": "code",
   "execution_count": null,
   "id": "fe2a74ca",
   "metadata": {},
   "outputs": [],
   "source": []
  },
  {
   "cell_type": "code",
   "execution_count": 197,
   "id": "ca0639e7",
   "metadata": {},
   "outputs": [
    {
     "name": "stdout",
     "output_type": "stream",
     "text": [
      "                           accuracy_historical_cluster  \\\n",
      "rate  skewness_factor num                                \n",
      "0.125 0.3             10                      0.983607   \n",
      "                      20                      1.000000   \n",
      "                      50                      0.977778   \n",
      "      0.5             10                      0.983333   \n",
      "                      20                      0.875000   \n",
      "                      50                      0.416667   \n",
      "      0.7             10                      0.762712   \n",
      "                      20                      0.633333   \n",
      "                      50                      0.669444   \n",
      "0.200 0.3             10                      1.000000   \n",
      "                      20                      1.000000   \n",
      "                      50                      0.981667   \n",
      "      0.5             10                      0.975000   \n",
      "                      20                      1.000000   \n",
      "                      50                      0.178333   \n",
      "      0.7             10                      0.925000   \n",
      "                      20                      0.645833   \n",
      "0.275 0.3             10                      1.000000   \n",
      "                      20                      1.000000   \n",
      "                      50                      0.965385   \n",
      "      0.5             10                      0.983333   \n",
      "                      20                      0.943333   \n",
      "                      50                      0.229487   \n",
      "      0.7             10                      0.933333   \n",
      "                      20                      0.806667   \n",
      "0.350 0.3             10                      1.000000   \n",
      "                      20                      1.000000   \n",
      "                      50                      0.986275   \n",
      "      0.5             10                      0.983333   \n",
      "                      20                      0.969048   \n",
      "                      50                      0.211765   \n",
      "      0.7             10                      0.938889   \n",
      "                      20                      0.771429   \n",
      "0.425 0.3             10                      1.000000   \n",
      "                      20                      1.000000   \n",
      "                      50                      0.969841   \n",
      "      0.5             10                      0.933333   \n",
      "                      20                      0.835417   \n",
      "                      50                      0.185714   \n",
      "      0.7             10                      0.887500   \n",
      "                      20                      0.910417   \n",
      "0.475 0.3             10                      1.000000   \n",
      "                      20                      0.983333   \n",
      "                      50                      0.970290   \n",
      "      0.5             10                      0.966667   \n",
      "                      20                      0.835185   \n",
      "                      50                      0.345652   \n",
      "      0.7             10                      0.941667   \n",
      "                      20                      0.188889   \n",
      "\n",
      "                           accuracy_current_cluster  \n",
      "rate  skewness_factor num                            \n",
      "0.125 0.3             10                   0.868852  \n",
      "                      20                   1.000000  \n",
      "                      50                   0.805556  \n",
      "      0.5             10                   0.983333  \n",
      "                      20                   0.950000  \n",
      "                      50                   0.494444  \n",
      "      0.7             10                   0.932203  \n",
      "                      20                   0.800000  \n",
      "                      50                   0.736111  \n",
      "0.200 0.3             10                   1.000000  \n",
      "                      20                   1.000000  \n",
      "                      50                   0.968333  \n",
      "      0.5             10                   0.991667  \n",
      "                      20                   1.000000  \n",
      "                      50                   0.551667  \n",
      "      0.7             10                   0.975000  \n",
      "                      20                   0.825000  \n",
      "0.275 0.3             10                   1.000000  \n",
      "                      20                   1.000000  \n",
      "                      50                   0.934615  \n",
      "      0.5             10                   0.983333  \n",
      "                      20                   0.966667  \n",
      "                      50                   0.535897  \n",
      "      0.7             10                   0.966667  \n",
      "                      20                   0.843333  \n",
      "0.350 0.3             10                   1.000000  \n",
      "                      20                   1.000000  \n",
      "                      50                   0.983333  \n",
      "      0.5             10                   0.983333  \n",
      "                      20                   0.942857  \n",
      "                      50                   0.511765  \n",
      "      0.7             10                   0.961111  \n",
      "                      20                   0.807143  \n",
      "0.425 0.3             10                   1.000000  \n",
      "                      20                   1.000000  \n",
      "                      50                   0.950794  \n",
      "      0.5             10                   0.966667  \n",
      "                      20                   0.950000  \n",
      "                      50                   0.473016  \n",
      "      0.7             10                   0.954167  \n",
      "                      20                   0.929167  \n",
      "0.475 0.3             10                   1.000000  \n",
      "                      20                   0.983333  \n",
      "                      50                   0.907971  \n",
      "      0.5             10                   0.983333  \n",
      "                      20                   0.935185  \n",
      "                      50                   0.261594  \n",
      "      0.7             10                   0.975000  \n",
      "                      20                   0.479630  \n"
     ]
    }
   ],
   "source": [
    "import pandas as pd\n",
    "\n",
    "grouped_data = data.groupby(['rate', 'skewness_factor', 'num']).agg({\n",
    "    'accuracy_historical_cluster': 'mean',  \n",
    "    'accuracy_current_cluster': 'mean',  \n",
    "})\n",
    "\n",
    "print(grouped_data)\n"
   ]
  },
  {
   "cell_type": "code",
   "execution_count": 198,
   "id": "bbc7bd70",
   "metadata": {},
   "outputs": [
    {
     "data": {
      "text/plain": [
       "pandas.core.series.Series"
      ]
     },
     "execution_count": 198,
     "metadata": {},
     "output_type": "execute_result"
    }
   ],
   "source": [
    "type(grouped_data.iloc[0])"
   ]
  },
  {
   "cell_type": "code",
   "execution_count": 199,
   "id": "4dab3491",
   "metadata": {},
   "outputs": [],
   "source": [
    "grouped_data.to_csv(f'/Users/joonghochoi/Desktop/FL_result/{title}_grouped_data.csv')"
   ]
  },
  {
   "cell_type": "code",
   "execution_count": 200,
   "id": "b455762f",
   "metadata": {},
   "outputs": [
    {
     "name": "stdout",
     "output_type": "stream",
     "text": [
      "skewness_factor\n",
      "0.3     True\n",
      "0.5    False\n",
      "0.7    False\n",
      "dtype: bool\n"
     ]
    }
   ],
   "source": [
    "\"\"\"\n",
    "Does the historical gradients method outperform the current gradients method under heterogeneity \n",
    "with different levels of skewness?\n",
    "\"\"\"\n",
    "df=grouped_data\n",
    "grouped = grouped_data.groupby(['skewness_factor']).mean()\n",
    "\n",
    "comparison = grouped['accuracy_historical_cluster'] > grouped['accuracy_current_cluster']\n",
    "print(comparison)\n",
    "comparison.to_csv(f\"/Users/joonghochoi/Desktop/FL_result/{title}hypothesis1.csv\", index=True)"
   ]
  },
  {
   "cell_type": "code",
   "execution_count": 201,
   "id": "8f60294f",
   "metadata": {},
   "outputs": [
    {
     "name": "stdout",
     "output_type": "stream",
     "text": [
      "num\n",
      "10    False\n",
      "20    False\n",
      "50    False\n",
      "dtype: bool\n"
     ]
    }
   ],
   "source": [
    "\"\"\"\n",
    "Does the historical gradients method outperform the current gradients method with varying \n",
    "numbers of participating clients?\n",
    "\"\"\"\n",
    "grouped_num = df.groupby(['num']).mean()\n",
    "\n",
    "comparison_num = grouped_num['accuracy_historical_cluster'] > grouped_num['accuracy_current_cluster']\n",
    "print(comparison_num)\n",
    "comparison.to_csv(f\"/Users/joonghochoi/Desktop/FL_result/{title}hypothesis2.csv\", index=True)"
   ]
  },
  {
   "cell_type": "code",
   "execution_count": 202,
   "id": "851a68f7",
   "metadata": {},
   "outputs": [
    {
     "name": "stdout",
     "output_type": "stream",
     "text": [
      "rate\n",
      "0.125    False\n",
      "0.200    False\n",
      "0.275    False\n",
      "0.350    False\n",
      "0.425    False\n",
      "0.475    False\n",
      "dtype: bool\n"
     ]
    }
   ],
   "source": [
    "\"\"\"\n",
    "Does the historical gradients method outperform the current gradients\n",
    "method with different percentages of malicious clients?\n",
    "\"\"\"\n",
    "grouped_rate = df.groupby('rate').mean()\n",
    "\n",
    "comparison_rate = grouped_rate['accuracy_historical_cluster'] > grouped_rate['accuracy_current_cluster']\n",
    "print(comparison_rate)\n",
    "comparison.to_csv(f\"/Users/joonghochoi/Desktop/FL_result/{title}hypothesis3.csv\", index=True)"
   ]
  },
  {
   "cell_type": "code",
   "execution_count": 203,
   "id": "87bd0bbd",
   "metadata": {},
   "outputs": [
    {
     "ename": "SyntaxError",
     "evalue": "'break' outside loop (668683560.py, line 1)",
     "output_type": "error",
     "traceback": [
      "\u001b[0;36m  Input \u001b[0;32mIn [203]\u001b[0;36m\u001b[0m\n\u001b[0;31m    break\u001b[0m\n\u001b[0m    ^\u001b[0m\n\u001b[0;31mSyntaxError\u001b[0m\u001b[0;31m:\u001b[0m 'break' outside loop\n"
     ]
    }
   ],
   "source": [
    "break"
   ]
  },
  {
   "cell_type": "code",
   "execution_count": null,
   "id": "20d9a540",
   "metadata": {},
   "outputs": [],
   "source": [
    "import matplotlib.pyplot as plt\n",
    "\n",
    "plt.figure(figsize=(10, 6))\n",
    "for (rate, skewness, num), subset in grouped_data.groupby(level=[0, 1, 2]):\n",
    "    plt.plot(subset.index.get_level_values('num'), subset['accuracy_historical_cluster'], marker='o', label=f\"rate_{rate}_skew_{skewness}\")\n",
    "\n",
    "plt.xlabel('Number of devices')\n",
    "plt.ylabel('Accuracy')\n",
    "plt.title('Accuracy with historical gradients')\n",
    "plt.legend(loc='center left', bbox_to_anchor=(1, 0.5))\n",
    "plt.show()\n",
    "\n",
    "# Plot for accuracy_current_cluster\n",
    "plt.figure(figsize=(10, 6))\n",
    "for (rate, skewness, num), subset in grouped_data.groupby(level=[0, 1, 2]):\n",
    "    plt.plot(subset.index.get_level_values('num'), subset['accuracy_current_cluster'], marker='o', label=f\"rate_{rate}_skew_{skewness}\")\n",
    "\n",
    "plt.xlabel('Number of devices')\n",
    "plt.ylabel('Accuracy')\n",
    "plt.title('Accuracy with no historical gradient and only current gradients')\n",
    "plt.legend(loc='center left', bbox_to_anchor=(1, 0.5))\n",
    "\n",
    "plt.show()\n"
   ]
  },
  {
   "cell_type": "code",
   "execution_count": null,
   "id": "daa352f1",
   "metadata": {},
   "outputs": [],
   "source": []
  },
  {
   "cell_type": "code",
   "execution_count": null,
   "id": "2a9e7765",
   "metadata": {},
   "outputs": [],
   "source": [
    "import matplotlib.pyplot as plt\n",
    "import pandas as pd\n",
    "\n",
    "\n",
    "grouped = data.groupby(['num', 'rate', 'skewness_factor'])\n",
    "\n",
    "# Plotting test_acc over round with different colors for each group\n",
    "plt.figure(figsize=(10, 6))\n",
    "\n",
    "for name, group in grouped:\n",
    "    plt.plot(group['round'], group['test_acc'], label=name)\n",
    "#     plt.plot(group['round'], group['precision_historical_cluster'], label=name)\n",
    "\n",
    "plt.xlabel('Round')\n",
    "plt.ylabel('Accuracy of historical cluster')\n",
    "plt.title('Historical cluster accuracy changes over Rounds for Different Groups')\n",
    "plt.legend(title=('num', 'rate', 'skewness_factor'), loc='best')\n",
    "plt.grid(True)\n",
    "plt.show()\n"
   ]
  },
  {
   "cell_type": "code",
   "execution_count": null,
   "id": "4d8c78cd",
   "metadata": {},
   "outputs": [],
   "source": [
    "import matplotlib.pyplot as plt\n",
    "import pandas as pd\n",
    "\n",
    "# Assuming 'data' is your DataFrame\n",
    "data_num_10 = data[data['num'] == 10]\n",
    "\n",
    "grouped10 = data_num_10.groupby(['rate', 'skewness_factor'])\n",
    "\n",
    "plt.figure(figsize=(10, 6))\n",
    "final_accuracies = {}\n",
    "for name, group in grouped10:\n",
    "    plt.plot(group['round'], group['test_acc'], label=name)\n",
    "    final_accuracies[name] = group['test_acc'].iloc[-1]\n",
    "\n",
    "plt.xlabel('Round')\n",
    "plt.ylabel('Test Accuracy')\n",
    "# plt.title('FedAvg: Test Accuracy Changes over Rounds for num = 10')\n",
    "plt.title('DP-SGD: Test Accuracy Changes over Rounds for num = 10')\n",
    "\n",
    "plt.legend(title=('rate', 'skewness_factor'), loc='best')\n",
    "plt.grid(True)\n",
    "\n",
    "# Adjusting the y-axis limits for more detail\n",
    "plt.ylim(0, 1)  # Set your desired limits here\n",
    "\n",
    "plt.show()\n",
    "best_combination = max(final_accuracies, key=final_accuracies.get)\n",
    "print(f\"The combination with the highest accuracy at the final round for num = 10 is: {best_combination} with accuracy {final_accuracies[best_combination]}\")"
   ]
  },
  {
   "cell_type": "code",
   "execution_count": null,
   "id": "d04ff8d2",
   "metadata": {},
   "outputs": [],
   "source": [
    "import matplotlib.pyplot as plt\n",
    "import pandas as pd\n",
    "\n",
    "data_num_20 = data[data['num'] == 20]\n",
    "\n",
    "grouped20 = data_num_20.groupby(['rate', 'skewness_factor'])\n",
    "\n",
    "final_accuracies = {}\n",
    "plt.figure(figsize=(10, 6))\n",
    "\n",
    "for name, group in grouped20:\n",
    "    plt.plot(group['round'], group['test_acc'], label=name)\n",
    "    final_accuracies[name] = group['test_acc'].iloc[-1]\n",
    "\n",
    "plt.xlabel('Round')\n",
    "plt.ylabel('Test Accuracy')\n",
    "# plt.title('FedAvg: Test Accuracy Changes over Rounds for num = 20')\n",
    "plt.title('DP-SGD: Test Accuracy Changes over Rounds for num = 20')\n",
    "\n",
    "plt.legend(title=('rate', 'skewness_factor'), loc='best')\n",
    "plt.grid(True)\n",
    "\n",
    "plt.ylim(0, 1)  # Set your desired limits here\n",
    "\n",
    "plt.show()\n",
    "best_combination = max(final_accuracies, key=final_accuracies.get)\n",
    "print(f\"The combination with the highest accuracy at the final round for num = 20 is: {best_combination} with accuracy {final_accuracies[best_combination]}\")"
   ]
  },
  {
   "cell_type": "code",
   "execution_count": null,
   "id": "f9b45b38",
   "metadata": {},
   "outputs": [],
   "source": [
    "import matplotlib.pyplot as plt\n",
    "import pandas as pd\n",
    "\n",
    "data_num_50 = data[data['num'] == 50]\n",
    "\n",
    "grouped50 = data_num_50.groupby(['rate', 'skewness_factor'])\n",
    "\n",
    "plt.figure(figsize=(10, 6))\n",
    "\n",
    "for name, group in grouped50:\n",
    "    plt.plot(group['round'], group['test_acc'], label=name)\n",
    "    final_accuracies[name] = group['test_acc'].iloc[-1]\n",
    "\n",
    "plt.xlabel('Round')\n",
    "plt.ylabel('Test Accuracy')\n",
    "# plt.title('FedAvg: Test Accuracy Changes over Rounds for num = 50')\n",
    "plt.title('DP-SGD: Test Accuracy Changes over Rounds for num = 50')\n",
    "\n",
    "plt.legend(title=('rate', 'skewness_factor'), loc='best')\n",
    "plt.grid(True)\n",
    "\n",
    "plt.ylim(0, 1)  # Set your desired limits here\n",
    "\n",
    "plt.show()\n",
    "best_combination = max(final_accuracies, key=final_accuracies.get)\n",
    "print(f\"The combination with the highest accuracy at the final round for num = 50 is: {best_combination} with accuracy {final_accuracies[best_combination]}\")"
   ]
  },
  {
   "cell_type": "code",
   "execution_count": null,
   "id": "53c15efa",
   "metadata": {},
   "outputs": [],
   "source": [
    "data.head(2)"
   ]
  },
  {
   "cell_type": "code",
   "execution_count": null,
   "id": "8a994b0f",
   "metadata": {},
   "outputs": [],
   "source": [
    "final= data[data['round'] == 60]\n",
    "final.shape"
   ]
  },
  {
   "cell_type": "code",
   "execution_count": null,
   "id": "48dc12db",
   "metadata": {},
   "outputs": [],
   "source": [
    "final.loc[:, ['num', 'rate', 'skewness_factor','test_acc']]\n"
   ]
  },
  {
   "cell_type": "code",
   "execution_count": null,
   "id": "c233d39a",
   "metadata": {},
   "outputs": [],
   "source": [
    "pivot_table = final.pivot_table(index='num', columns='skewness_factor', values='test_acc')\n",
    "pivot_table"
   ]
  },
  {
   "cell_type": "code",
   "execution_count": null,
   "id": "0e597f2e",
   "metadata": {},
   "outputs": [],
   "source": [
    "pivot_table = final.pivot_table(index='num', columns=['skewness_factor', 'rate'], values='test_acc')\n",
    "pivot_table"
   ]
  },
  {
   "cell_type": "code",
   "execution_count": null,
   "id": "5efe4920",
   "metadata": {},
   "outputs": [],
   "source": [
    "# pivot_table.to_csv('fedavg_res.csv')\n",
    "pivot_table.to_csv('dpsgd_res.csv')\n"
   ]
  },
  {
   "cell_type": "code",
   "execution_count": null,
   "id": "1332f2e9",
   "metadata": {},
   "outputs": [],
   "source": []
  },
  {
   "cell_type": "code",
   "execution_count": null,
   "id": "eef3fbf9",
   "metadata": {},
   "outputs": [],
   "source": [
    "data=pd.read_csv(\"/Users/joonghochoi/Desktop/nonIID_w_dpsgd.csv\")"
   ]
  }
 ],
 "metadata": {
  "kernelspec": {
   "display_name": "sweAI",
   "language": "python",
   "name": "sweai"
  },
  "language_info": {
   "codemirror_mode": {
    "name": "ipython",
    "version": 3
   },
   "file_extension": ".py",
   "mimetype": "text/x-python",
   "name": "python",
   "nbconvert_exporter": "python",
   "pygments_lexer": "ipython3",
   "version": "3.9.6"
  }
 },
 "nbformat": 4,
 "nbformat_minor": 5
}
